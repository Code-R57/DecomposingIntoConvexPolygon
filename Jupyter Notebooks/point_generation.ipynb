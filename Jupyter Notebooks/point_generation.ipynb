{
 "cells": [
  {
   "cell_type": "code",
   "execution_count": 3,
   "metadata": {},
   "outputs": [
    {
     "ename": "ValueError",
     "evalue": "invalid literal for int() with base 10: '37.000000'",
     "output_type": "error",
     "traceback": [
      "\u001b[1;31m---------------------------------------------------------------------------\u001b[0m",
      "\u001b[1;31mValueError\u001b[0m                                Traceback (most recent call last)",
      "\u001b[1;32md:\\MyFolder\\Ritvik\\BITS Pilani\\BPHC\\Semester 6\\DAA\\Assignment 1\\Assignment_dhruv\\point_generation.ipynb Cell 1\u001b[0m in \u001b[0;36m<cell line: 3>\u001b[1;34m()\u001b[0m\n\u001b[0;32m      <a href='vscode-notebook-cell:/d%3A/MyFolder/Ritvik/BITS%20Pilani/BPHC/Semester%206/DAA/Assignment%201/Assignment_dhruv/point_generation.ipynb#W0sZmlsZQ%3D%3D?line=5'>6</a>\u001b[0m num_points \u001b[39m=\u001b[39m []\n\u001b[0;32m      <a href='vscode-notebook-cell:/d%3A/MyFolder/Ritvik/BITS%20Pilani/BPHC/Semester%206/DAA/Assignment%201/Assignment_dhruv/point_generation.ipynb#W0sZmlsZQ%3D%3D?line=6'>7</a>\u001b[0m \u001b[39mwith\u001b[39;00m \u001b[39mopen\u001b[39m(\u001b[39mf\u001b[39m\u001b[39m\"\u001b[39m\u001b[39m./timing/\u001b[39m\u001b[39m{\u001b[39;00mfilename\u001b[39m}\u001b[39;00m\u001b[39m.txt\u001b[39m\u001b[39m\"\u001b[39m) \u001b[39mas\u001b[39;00m time_file:\n\u001b[1;32m----> <a href='vscode-notebook-cell:/d%3A/MyFolder/Ritvik/BITS%20Pilani/BPHC/Semester%206/DAA/Assignment%201/Assignment_dhruv/point_generation.ipynb#W0sZmlsZQ%3D%3D?line=7'>8</a>\u001b[0m     time\u001b[39m.\u001b[39mappend(\u001b[39mint\u001b[39;49m(time_file\u001b[39m.\u001b[39;49mreadline()\u001b[39m.\u001b[39;49mstrip()))\n\u001b[0;32m      <a href='vscode-notebook-cell:/d%3A/MyFolder/Ritvik/BITS%20Pilani/BPHC/Semester%206/DAA/Assignment%201/Assignment_dhruv/point_generation.ipynb#W0sZmlsZQ%3D%3D?line=8'>9</a>\u001b[0m \u001b[39mwith\u001b[39;00m \u001b[39mopen\u001b[39m(\u001b[39mf\u001b[39m\u001b[39m\"\u001b[39m\u001b[39m./countries/\u001b[39m\u001b[39m{\u001b[39;00mfilename\u001b[39m}\u001b[39;00m\u001b[39m\"\u001b[39m) \u001b[39mas\u001b[39;00m num_file:\n\u001b[0;32m     <a href='vscode-notebook-cell:/d%3A/MyFolder/Ritvik/BITS%20Pilani/BPHC/Semester%206/DAA/Assignment%201/Assignment_dhruv/point_generation.ipynb#W0sZmlsZQ%3D%3D?line=9'>10</a>\u001b[0m     num_points\u001b[39m.\u001b[39mappend(\u001b[39mint\u001b[39m(num_file\u001b[39m.\u001b[39mreadline()\u001b[39m.\u001b[39mstrip()))\n",
      "\u001b[1;31mValueError\u001b[0m: invalid literal for int() with base 10: '37.000000'"
     ]
    }
   ],
   "source": [
    "import os\n",
    "\n",
    "for filename in os.listdir(\"timing\"):\n",
    "    filename = filename[:-4]\n",
    "    time = []\n",
    "    num_points = []\n",
    "    with open(f\"./timing/{filename}.txt\") as time_file:\n",
    "        time.append(eval(time_file.readline().strip()))\n",
    "    with open(f\"./countries/{filename}\") as num_file:\n",
    "        num_points.append(eval(num_file.readline().strip()))\n",
    "\n",
    "    print(time)\n",
    "    print(num_points)"
   ]
  }
 ],
 "metadata": {
  "kernelspec": {
   "display_name": "Python 3",
   "language": "python",
   "name": "python3"
  },
  "language_info": {
   "codemirror_mode": {
    "name": "ipython",
    "version": 3
   },
   "file_extension": ".py",
   "mimetype": "text/x-python",
   "name": "python",
   "nbconvert_exporter": "python",
   "pygments_lexer": "ipython3",
   "version": "3.10.5"
  },
  "orig_nbformat": 4
 },
 "nbformat": 4,
 "nbformat_minor": 2
}
